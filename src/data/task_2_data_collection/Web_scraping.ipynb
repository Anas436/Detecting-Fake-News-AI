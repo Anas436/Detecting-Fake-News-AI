{
 "cells": [
  {
   "cell_type": "markdown",
   "id": "3dffdc24",
   "metadata": {},
   "source": [
    " Web Scraping web application"
   ]
  },
  {
   "cell_type": "code",
   "execution_count": 104,
   "id": "6c10c986",
   "metadata": {},
   "outputs": [],
   "source": [
    "import requests\n",
    "from bs4 import BeautifulSoup\n",
    "import pandas as pd"
   ]
  },
  {
   "cell_type": "code",
   "execution_count": 105,
   "id": "819e1ed3",
   "metadata": {},
   "outputs": [],
   "source": [
    "# Create empty lists to store the data\n",
    "titles = []\n",
    "authors = []\n",
    "dates = []\n",
    "links = []\n",
    "\n"
   ]
  },
  {
   "cell_type": "code",
   "execution_count": 106,
   "id": "070e0dc4",
   "metadata": {},
   "outputs": [],
   "source": [
    "# Set the base URL\n",
    "base_url = \"https://tsmliberia.com/category/fact-check/\"\n"
   ]
  },
  {
   "cell_type": "code",
   "execution_count": 107,
   "id": "4d73217a",
   "metadata": {},
   "outputs": [],
   "source": [
    "\n",
    "# Scrape data from the first 20 pages\n",
    "for page in range(1, 40):\n",
    "    # Construct the URL for each page\n",
    "    url = base_url + f\"page/{page}/\"\n",
    "\n",
    "    # Send a GET request to the page\n",
    "    response = requests.get(url)\n",
    "    content = response.content\n",
    "    soup = BeautifulSoup(content, \"html.parser\")\n",
    "\n",
    "    # Find the posts on the page\n",
    "    posts = soup.find_all(\"div\", class_=\"td_module_1 td_module_wrap td-animation-stack td-cpt-post\")\n",
    "\n",
    "    # Extract the information from each post and append it to the respective lists\n",
    "    for post in posts:\n",
    "        title = post.find(\"h3\", class_=\"entry-title td-module-title\").text.strip()\n",
    "        author = post.find(\"span\", class_=\"td-post-author-name\").text.strip()\n",
    "        date = post.find(\"time\", class_=\"entry-date updated td-module-date\").text.strip()\n",
    "        link = post.find('a', href= True).get('href')\n",
    "      \n",
    "      \n",
    "    \n",
    "\n",
    "        titles.append(title)\n",
    "        authors.append(author)\n",
    "        dates.append(date)\n",
    "        links.append(link)\n",
    "        contents.append(content)\n",
    "       \n"
   ]
  },
  {
   "cell_type": "code",
   "execution_count": 108,
   "id": "8a273de0",
   "metadata": {},
   "outputs": [
    {
     "name": "stdout",
     "output_type": "stream",
     "text": [
      "                                                 Title  \\\n",
      "0        The Post of Costa For President is Misleading   \n",
      "1                                  June Pidgin Edition   \n",
      "2                 The Cut in the 2023 Elections Budget   \n",
      "3                        Is UP Ticket a Ritual Ticket?   \n",
      "4    Is President Weah Correct on the Construction ...   \n",
      "..                                                 ...   \n",
      "284  True! Sierra Leone was elected as a non-perman...   \n",
      "285     Correct, Costa Got 8 Percent In 2017 Elections   \n",
      "286  What Did Representative Foko Say about Weah’s ...   \n",
      "287      The Post of Costa For President is Misleading   \n",
      "288  Explainer: Why Justice Scott’s Motion to Admit...   \n",
      "\n",
      "                        Author           Date  \\\n",
      "0             Mark Mengonfia -  June 30, 2023   \n",
      "1    The Stage Media-Liberia -  June 28, 2023   \n",
      "2                Gloria Wleh -  June 23, 2023   \n",
      "3       Bettie Johnson-Mbayo -  June 22, 2023   \n",
      "4       Bettie Johnson-Mbayo -  June 21, 2023   \n",
      "..                         ...            ...   \n",
      "284              Gloria Wleh -  July 11, 2023   \n",
      "285           R. Joyclyn Wea -  July 11, 2023   \n",
      "286           Mark Mengonfia -   July 8, 2023   \n",
      "287           Mark Mengonfia -  June 30, 2023   \n",
      "288           R. Joyclyn Wea -  June 28, 2023   \n",
      "\n",
      "                                                  Link  \n",
      "0    https://tsmliberia.com/the-post-of-costa-for-p...  \n",
      "1          https://tsmliberia.com/june-pidgin-edition/  \n",
      "2    https://tsmliberia.com/the-cut-in-the-2023-ele...  \n",
      "3    https://tsmliberia.com/is-up-ticket-a-ritual-t...  \n",
      "4    https://tsmliberia.com/is-president-weah-corre...  \n",
      "..                                                 ...  \n",
      "284  https://tsmliberia.com/true-sierra-leone-was-e...  \n",
      "285  https://tsmliberia.com/correct-costa-got-8-per...  \n",
      "286  https://tsmliberia.com/what-did-representative...  \n",
      "287  https://tsmliberia.com/the-post-of-costa-for-p...  \n",
      "288  https://tsmliberia.com/explainer-why-justice-s...  \n",
      "\n",
      "[289 rows x 4 columns]\n"
     ]
    }
   ],
   "source": [
    "# Create a pandas DataFrame using the collected data\n",
    "data = {\n",
    "    \"Title\": titles,\n",
    "    \"Author\": authors,\n",
    "    \"Date\": dates,\n",
    "    \"Link\": links,\n",
    "\n",
    "\n",
    "}\n",
    "df = pd.DataFrame(data)\n",
    "\n",
    "# Print the DataFrame\n",
    "print(df)\n"
   ]
  },
  {
   "cell_type": "code",
   "execution_count": 109,
   "id": "388c2fae",
   "metadata": {},
   "outputs": [],
   "source": [
    "df.to_csv(\"Collected_data.csv\")"
   ]
  },
  {
   "cell_type": "code",
   "execution_count": 110,
   "id": "3ac3787d",
   "metadata": {},
   "outputs": [],
   "source": [
    "collected=pd.read_csv(\"Collected_data.csv\")"
   ]
  },
  {
   "cell_type": "code",
   "execution_count": 111,
   "id": "1257c476",
   "metadata": {},
   "outputs": [
    {
     "data": {
      "text/html": [
       "<div>\n",
       "<style scoped>\n",
       "    .dataframe tbody tr th:only-of-type {\n",
       "        vertical-align: middle;\n",
       "    }\n",
       "\n",
       "    .dataframe tbody tr th {\n",
       "        vertical-align: top;\n",
       "    }\n",
       "\n",
       "    .dataframe thead th {\n",
       "        text-align: right;\n",
       "    }\n",
       "</style>\n",
       "<table border=\"1\" class=\"dataframe\">\n",
       "  <thead>\n",
       "    <tr style=\"text-align: right;\">\n",
       "      <th></th>\n",
       "      <th>Unnamed: 0</th>\n",
       "      <th>Title</th>\n",
       "      <th>Author</th>\n",
       "      <th>Date</th>\n",
       "      <th>Link</th>\n",
       "    </tr>\n",
       "  </thead>\n",
       "  <tbody>\n",
       "    <tr>\n",
       "      <th>0</th>\n",
       "      <td>0</td>\n",
       "      <td>The Post of Costa For President is Misleading</td>\n",
       "      <td>Mark Mengonfia -</td>\n",
       "      <td>June 30, 2023</td>\n",
       "      <td>https://tsmliberia.com/the-post-of-costa-for-p...</td>\n",
       "    </tr>\n",
       "    <tr>\n",
       "      <th>1</th>\n",
       "      <td>1</td>\n",
       "      <td>June Pidgin Edition</td>\n",
       "      <td>The Stage Media-Liberia -</td>\n",
       "      <td>June 28, 2023</td>\n",
       "      <td>https://tsmliberia.com/june-pidgin-edition/</td>\n",
       "    </tr>\n",
       "    <tr>\n",
       "      <th>2</th>\n",
       "      <td>2</td>\n",
       "      <td>The Cut in the 2023 Elections Budget</td>\n",
       "      <td>Gloria Wleh -</td>\n",
       "      <td>June 23, 2023</td>\n",
       "      <td>https://tsmliberia.com/the-cut-in-the-2023-ele...</td>\n",
       "    </tr>\n",
       "    <tr>\n",
       "      <th>3</th>\n",
       "      <td>3</td>\n",
       "      <td>Is UP Ticket a Ritual Ticket?</td>\n",
       "      <td>Bettie Johnson-Mbayo -</td>\n",
       "      <td>June 22, 2023</td>\n",
       "      <td>https://tsmliberia.com/is-up-ticket-a-ritual-t...</td>\n",
       "    </tr>\n",
       "    <tr>\n",
       "      <th>4</th>\n",
       "      <td>4</td>\n",
       "      <td>Is President Weah Correct on the Construction ...</td>\n",
       "      <td>Bettie Johnson-Mbayo -</td>\n",
       "      <td>June 21, 2023</td>\n",
       "      <td>https://tsmliberia.com/is-president-weah-corre...</td>\n",
       "    </tr>\n",
       "    <tr>\n",
       "      <th>5</th>\n",
       "      <td>5</td>\n",
       "      <td>False, Liberia did not rank 135 in 2017 and 15...</td>\n",
       "      <td>Gloria Wleh -</td>\n",
       "      <td>June 19, 2023</td>\n",
       "      <td>https://tsmliberia.com/false-liberia-did-not-r...</td>\n",
       "    </tr>\n",
       "    <tr>\n",
       "      <th>6</th>\n",
       "      <td>6</td>\n",
       "      <td>What we know about Motorcyclists and Tricylist...</td>\n",
       "      <td>Gloria Wleh -</td>\n",
       "      <td>June 17, 2023</td>\n",
       "      <td>https://tsmliberia.com/exaggerated-liberia-doe...</td>\n",
       "    </tr>\n",
       "    <tr>\n",
       "      <th>7</th>\n",
       "      <td>7</td>\n",
       "      <td>No, Srimex was not shut down due to tax Evasio...</td>\n",
       "      <td>Maima Wright -</td>\n",
       "      <td>June 17, 2023</td>\n",
       "      <td>https://tsmliberia.com/no-srimex-was-not-shut-...</td>\n",
       "    </tr>\n",
       "    <tr>\n",
       "      <th>8</th>\n",
       "      <td>8</td>\n",
       "      <td>Photos of prostitutes not from Nimba, Liberia</td>\n",
       "      <td>R. Joyclyn Wea -</td>\n",
       "      <td>June 17, 2023</td>\n",
       "      <td>https://tsmliberia.com/photos-of-prostitutes-n...</td>\n",
       "    </tr>\n",
       "    <tr>\n",
       "      <th>9</th>\n",
       "      <td>9</td>\n",
       "      <td>Votes obtained by winners and first-place fini...</td>\n",
       "      <td>Bettie Johnson-Mbayo -</td>\n",
       "      <td>June 15, 2023</td>\n",
       "      <td>https://tsmliberia.com/votes-obtained-by-winne...</td>\n",
       "    </tr>\n",
       "  </tbody>\n",
       "</table>\n",
       "</div>"
      ],
      "text/plain": [
       "   Unnamed: 0                                              Title  \\\n",
       "0           0      The Post of Costa For President is Misleading   \n",
       "1           1                                June Pidgin Edition   \n",
       "2           2               The Cut in the 2023 Elections Budget   \n",
       "3           3                      Is UP Ticket a Ritual Ticket?   \n",
       "4           4  Is President Weah Correct on the Construction ...   \n",
       "5           5  False, Liberia did not rank 135 in 2017 and 15...   \n",
       "6           6  What we know about Motorcyclists and Tricylist...   \n",
       "7           7  No, Srimex was not shut down due to tax Evasio...   \n",
       "8           8      Photos of prostitutes not from Nimba, Liberia   \n",
       "9           9  Votes obtained by winners and first-place fini...   \n",
       "\n",
       "                      Author           Date  \\\n",
       "0           Mark Mengonfia -  June 30, 2023   \n",
       "1  The Stage Media-Liberia -  June 28, 2023   \n",
       "2              Gloria Wleh -  June 23, 2023   \n",
       "3     Bettie Johnson-Mbayo -  June 22, 2023   \n",
       "4     Bettie Johnson-Mbayo -  June 21, 2023   \n",
       "5              Gloria Wleh -  June 19, 2023   \n",
       "6              Gloria Wleh -  June 17, 2023   \n",
       "7             Maima Wright -  June 17, 2023   \n",
       "8           R. Joyclyn Wea -  June 17, 2023   \n",
       "9     Bettie Johnson-Mbayo -  June 15, 2023   \n",
       "\n",
       "                                                Link  \n",
       "0  https://tsmliberia.com/the-post-of-costa-for-p...  \n",
       "1        https://tsmliberia.com/june-pidgin-edition/  \n",
       "2  https://tsmliberia.com/the-cut-in-the-2023-ele...  \n",
       "3  https://tsmliberia.com/is-up-ticket-a-ritual-t...  \n",
       "4  https://tsmliberia.com/is-president-weah-corre...  \n",
       "5  https://tsmliberia.com/false-liberia-did-not-r...  \n",
       "6  https://tsmliberia.com/exaggerated-liberia-doe...  \n",
       "7  https://tsmliberia.com/no-srimex-was-not-shut-...  \n",
       "8  https://tsmliberia.com/photos-of-prostitutes-n...  \n",
       "9  https://tsmliberia.com/votes-obtained-by-winne...  "
      ]
     },
     "execution_count": 111,
     "metadata": {},
     "output_type": "execute_result"
    }
   ],
   "source": [
    "collected.head(10)"
   ]
  },
  {
   "cell_type": "code",
   "execution_count": 112,
   "id": "a12e2e25",
   "metadata": {},
   "outputs": [
    {
     "data": {
      "text/plain": [
       "(289, 5)"
      ]
     },
     "execution_count": 112,
     "metadata": {},
     "output_type": "execute_result"
    }
   ],
   "source": [
    "collected.shape"
   ]
  }
 ],
 "metadata": {
  "kernelspec": {
   "display_name": "Python 3 (ipykernel)",
   "language": "python",
   "name": "python3"
  },
  "language_info": {
   "codemirror_mode": {
    "name": "ipython",
    "version": 3
   },
   "file_extension": ".py",
   "mimetype": "text/x-python",
   "name": "python",
   "nbconvert_exporter": "python",
   "pygments_lexer": "ipython3",
   "version": "3.10.9"
  }
 },
 "nbformat": 4,
 "nbformat_minor": 5
}
