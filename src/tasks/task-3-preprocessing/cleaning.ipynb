{
 "cells": [
  {
   "cell_type": "code",
   "execution_count": 1,
   "id": "4d747051",
   "metadata": {},
   "outputs": [],
   "source": [
    "import pandas as pd\n",
    "import re\n",
    "import contractions"
   ]
  },
  {
   "cell_type": "code",
   "execution_count": 17,
   "id": "63b4a8c5",
   "metadata": {},
   "outputs": [],
   "source": [
    "PUNCTUATION = '!\"#$%&\\'()*+,-./:;<=>?@[\\\\]^_`{|}~'"
   ]
  },
  {
   "cell_type": "code",
   "execution_count": 2,
   "id": "a6530bdf",
   "metadata": {},
   "outputs": [],
   "source": [
    "STOPWORDS = {'a',\n",
    " 'about',\n",
    " 'above',\n",
    " 'after',\n",
    " 'again',\n",
    " 'against',\n",
    " 'ain',\n",
    " 'all',\n",
    " 'am',\n",
    " 'an',\n",
    " 'and',\n",
    " 'any',\n",
    " 'are',\n",
    " 'aren',\n",
    " \"aren't\",\n",
    " 'as',\n",
    " 'at',\n",
    " 'be',\n",
    " 'because',\n",
    " 'been',\n",
    " 'before',\n",
    " 'being',\n",
    " 'below',\n",
    " 'between',\n",
    " 'both',\n",
    " 'but',\n",
    " 'by',\n",
    " 'can',\n",
    " 'couldn',\n",
    " \"couldn't\",\n",
    " 'd',\n",
    " 'did',\n",
    " 'didn',\n",
    " \"didn't\",\n",
    " 'do',\n",
    " 'does',\n",
    " 'doesn',\n",
    " \"doesn't\",\n",
    " 'doing',\n",
    " 'don',\n",
    " \"don't\",\n",
    " 'down',\n",
    " 'during',\n",
    " 'each',\n",
    " 'few',\n",
    " 'for',\n",
    " 'from',\n",
    " 'further',\n",
    " 'had',\n",
    " 'hadn',\n",
    " \"hadn't\",\n",
    " 'has',\n",
    " 'hasn',\n",
    " \"hasn't\",\n",
    " 'have',\n",
    " 'haven',\n",
    " \"haven't\",\n",
    " 'having',\n",
    " 'he',\n",
    " 'her',\n",
    " 'here',\n",
    " 'hers',\n",
    " 'herself',\n",
    " 'him',\n",
    " 'himself',\n",
    " 'his',\n",
    " 'how',\n",
    " 'i',\n",
    " 'if',\n",
    " 'in',\n",
    " 'into',\n",
    " 'is',\n",
    " 'isn',\n",
    " \"isn't\",\n",
    " 'it',\n",
    " \"it's\",\n",
    " 'its',\n",
    " 'itself',\n",
    " 'just',\n",
    " 'll',\n",
    " 'm',\n",
    " 'ma',\n",
    " 'me',\n",
    " 'mightn',\n",
    " \"mightn't\",\n",
    " 'more',\n",
    " 'most',\n",
    " 'mustn',\n",
    " \"mustn't\",\n",
    " 'my',\n",
    " 'myself',\n",
    " 'needn',\n",
    " \"needn't\",\n",
    " 'no',\n",
    " 'nor',\n",
    " 'not',\n",
    " 'now',\n",
    " 'o',\n",
    " 'of',\n",
    " 'off',\n",
    " 'on',\n",
    " 'once',\n",
    " 'only',\n",
    " 'or',\n",
    " 'other',\n",
    " 'our',\n",
    " 'ours',\n",
    " 'ourselves',\n",
    " 'out',\n",
    " 'over',\n",
    " 'own',\n",
    " 're',\n",
    " 's',\n",
    " 'same',\n",
    " 'shan',\n",
    " \"shan't\",\n",
    " 'she',\n",
    " \"she's\",\n",
    " 'should',\n",
    " \"should've\",\n",
    " 'shouldn',\n",
    " \"shouldn't\",\n",
    " 'so',\n",
    " 'some',\n",
    " 'such',\n",
    " 't',\n",
    " 'than',\n",
    " 'that',\n",
    " \"that'll\",\n",
    " 'the',\n",
    " 'their',\n",
    " 'theirs',\n",
    " 'them',\n",
    " 'themselves',\n",
    " 'then',\n",
    " 'there',\n",
    " 'these',\n",
    " 'they',\n",
    " 'this',\n",
    " 'those',\n",
    " 'through',\n",
    " 'to',\n",
    " 'too',\n",
    " 'under',\n",
    " 'until',\n",
    " 'up',\n",
    " 've',\n",
    " 'very',\n",
    " 'was',\n",
    " 'wasn',\n",
    " \"wasn't\",\n",
    " 'we',\n",
    " 'were',\n",
    " 'weren',\n",
    " \"weren't\",\n",
    " 'what',\n",
    " 'when',\n",
    " 'where',\n",
    " 'which',\n",
    " 'while',\n",
    " 'who',\n",
    " 'whom',\n",
    " 'why',\n",
    " 'will',\n",
    " 'with',\n",
    " 'won',\n",
    " \"won't\",\n",
    " 'wouldn',\n",
    " \"wouldn't\",\n",
    " 'y',\n",
    " 'you',\n",
    " \"you'd\",\n",
    " \"you'll\",\n",
    " \"you're\",\n",
    " \"you've\",\n",
    " 'your',\n",
    " 'yours',\n",
    " 'yourself',\n",
    " 'yourselves'}"
   ]
  },
  {
   "cell_type": "code",
   "execution_count": 3,
   "id": "f139d298",
   "metadata": {},
   "outputs": [],
   "source": [
    "df = pd.read_excel('data/Full dataset.xlsx')"
   ]
  },
  {
   "cell_type": "code",
   "execution_count": 4,
   "id": "fe87b73d",
   "metadata": {},
   "outputs": [],
   "source": [
    "df = df[['title', 'content', 'Label']]"
   ]
  },
  {
   "cell_type": "code",
   "execution_count": 5,
   "id": "f7d73072",
   "metadata": {},
   "outputs": [
    {
     "data": {
      "text/html": [
       "<div>\n",
       "<style scoped>\n",
       "    .dataframe tbody tr th:only-of-type {\n",
       "        vertical-align: middle;\n",
       "    }\n",
       "\n",
       "    .dataframe tbody tr th {\n",
       "        vertical-align: top;\n",
       "    }\n",
       "\n",
       "    .dataframe thead th {\n",
       "        text-align: right;\n",
       "    }\n",
       "</style>\n",
       "<table border=\"1\" class=\"dataframe\">\n",
       "  <thead>\n",
       "    <tr style=\"text-align: right;\">\n",
       "      <th></th>\n",
       "      <th>title</th>\n",
       "      <th>content</th>\n",
       "      <th>Label</th>\n",
       "    </tr>\n",
       "  </thead>\n",
       "  <tbody>\n",
       "    <tr>\n",
       "      <th>0</th>\n",
       "      <td>\\nGovernment Must Provide Security for AML in ...</td>\n",
       "      <td>Last week, armed men carrying machetes and oth...</td>\n",
       "      <td>1.0</td>\n",
       "    </tr>\n",
       "    <tr>\n",
       "      <th>1</th>\n",
       "      <td>\\nLiberia Army Chief Of Staff Predicts Unfores...</td>\n",
       "      <td>Amid recent coup in Niger, the Chief Staff of ...</td>\n",
       "      <td>1.0</td>\n",
       "    </tr>\n",
       "    <tr>\n",
       "      <th>2</th>\n",
       "      <td>\\nGuns &amp; Machetes: Men Attack, Vandalize Arcel...</td>\n",
       "      <td>A group of unknown men said to be from Zolowee...</td>\n",
       "      <td>1.0</td>\n",
       "    </tr>\n",
       "    <tr>\n",
       "      <th>3</th>\n",
       "      <td>\\nPresident  Weah commits to delivering violen...</td>\n",
       "      <td>Liberian President, George Weah, has pledged t...</td>\n",
       "      <td>1.0</td>\n",
       "    </tr>\n",
       "    <tr>\n",
       "      <th>4</th>\n",
       "      <td>\\nNew World Bank Liberia Country Manager Arrives</td>\n",
       "      <td>MONROVIA, July 31, 2023 â€“ The new World Bank...</td>\n",
       "      <td>1.0</td>\n",
       "    </tr>\n",
       "  </tbody>\n",
       "</table>\n",
       "</div>"
      ],
      "text/plain": [
       "                                               title  \\\n",
       "0  \\nGovernment Must Provide Security for AML in ...   \n",
       "1  \\nLiberia Army Chief Of Staff Predicts Unfores...   \n",
       "2  \\nGuns & Machetes: Men Attack, Vandalize Arcel...   \n",
       "3  \\nPresident  Weah commits to delivering violen...   \n",
       "4   \\nNew World Bank Liberia Country Manager Arrives   \n",
       "\n",
       "                                             content  Label  \n",
       "0  Last week, armed men carrying machetes and oth...    1.0  \n",
       "1  Amid recent coup in Niger, the Chief Staff of ...    1.0  \n",
       "2  A group of unknown men said to be from Zolowee...    1.0  \n",
       "3  Liberian President, George Weah, has pledged t...    1.0  \n",
       "4  MONROVIA, July 31, 2023 â€“ The new World Bank...    1.0  "
      ]
     },
     "execution_count": 5,
     "metadata": {},
     "output_type": "execute_result"
    }
   ],
   "source": [
    "df.head()"
   ]
  },
  {
   "cell_type": "code",
   "execution_count": 6,
   "id": "5d08d819",
   "metadata": {},
   "outputs": [
    {
     "data": {
      "text/plain": [
       "0.016779021768182224"
      ]
     },
     "execution_count": 6,
     "metadata": {},
     "output_type": "execute_result"
    }
   ],
   "source": [
    "df.title.isna().mean()"
   ]
  },
  {
   "cell_type": "code",
   "execution_count": 7,
   "id": "0ad8a623",
   "metadata": {},
   "outputs": [],
   "source": [
    "df.dropna(inplace=True)"
   ]
  },
  {
   "cell_type": "code",
   "execution_count": 8,
   "id": "79c710db",
   "metadata": {},
   "outputs": [
    {
     "data": {
      "text/plain": [
       "24.0"
      ]
     },
     "execution_count": 8,
     "metadata": {},
     "output_type": "execute_result"
    }
   ],
   "source": [
    "df.title.str.len().quantile(0.05)"
   ]
  },
  {
   "cell_type": "code",
   "execution_count": 9,
   "id": "883742ff",
   "metadata": {},
   "outputs": [
    {
     "data": {
      "text/plain": [
       "126.0"
      ]
     },
     "execution_count": 9,
     "metadata": {},
     "output_type": "execute_result"
    }
   ],
   "source": [
    "df.title.str.len().quantile(0.95)"
   ]
  },
  {
   "cell_type": "code",
   "execution_count": 10,
   "id": "97e121e4",
   "metadata": {},
   "outputs": [],
   "source": [
    "# del short titles \n",
    "df.drop(df[df.title.str.len() < 24].index, inplace=True)"
   ]
  },
  {
   "cell_type": "code",
   "execution_count": 11,
   "id": "9199e009",
   "metadata": {},
   "outputs": [],
   "source": [
    "# del very long titles\n",
    "df.drop(df[df.title.str.len() > 126].index, inplace=True)"
   ]
  },
  {
   "cell_type": "code",
   "execution_count": 12,
   "id": "91fc66b3",
   "metadata": {},
   "outputs": [
    {
     "data": {
      "text/plain": [
       "count    29396.000000\n",
       "mean        57.699585\n",
       "std         23.020405\n",
       "min         24.000000\n",
       "25%         39.000000\n",
       "50%         53.000000\n",
       "75%         73.000000\n",
       "max        126.000000\n",
       "Name: title, dtype: float64"
      ]
     },
     "execution_count": 12,
     "metadata": {},
     "output_type": "execute_result"
    }
   ],
   "source": [
    "df.title.str.len().describe()"
   ]
  },
  {
   "cell_type": "code",
   "execution_count": 13,
   "id": "a9ee14bb",
   "metadata": {},
   "outputs": [],
   "source": [
    "# drop titles and content that contain only digits\n",
    "df.drop(df[df.title.astype(str).str.isnumeric()].index, inplace=True)\n",
    "df.drop(df[df.content.astype(str).str.isnumeric()].index, inplace=True)"
   ]
  },
  {
   "cell_type": "code",
   "execution_count": 14,
   "id": "49695b7c",
   "metadata": {},
   "outputs": [],
   "source": [
    "#remove not ascii\n",
    "def delete_not_ascii(text):\n",
    "    text = re.sub(r'[^\\x00-\\x7f]', '', text)\n",
    "    return text \n",
    "\n",
    "#remove urls\n",
    "def remove_urls(text):\n",
    "    text = re.sub(r'https?://\\S+|www\\.\\S+', '', text)\n",
    "    return text\n",
    "\n",
    "#remove numbers, replace it by NUMBER\n",
    "def remove_number(text):\n",
    "    num = re.compile(r'[-+]?[.\\d]*[\\d]+[:,.\\d]*')\n",
    "    return num.sub(r' NUMBER ', text)\n",
    "\n",
    "#remove punctuation\n",
    "def remove_punct(text):\n",
    "    text = re.sub('[' + PUNCTUATION +']', ' ', text)\n",
    "    return text     \n",
    "\n",
    "# remove line breaks and extra spaces\n",
    "def clean_text(text):\n",
    "    text = re.sub(r'\\n',' ', text) # Remove line breaks\n",
    "    text = re.sub('\\s+', ' ', text).strip() # Remove leading, trailing, and extra spaces\n",
    "    return text\n",
    "\n",
    "def convert_lower_case(text):\n",
    "    return text.lower()\n",
    "\n",
    "#contractions and remowing stopwords and very short words\n",
    "def string_contractions(text):\n",
    "    string_wothout_contractions = ''\n",
    "    expanded_words = []  \n",
    "    for each_word in text.split():\n",
    "        if each_word not in (STOPWORDS):\n",
    "            if len(each_word) >= 2:\n",
    "                expanded_words.append(contractions.fix(each_word))\n",
    "    string_wothout_contractions = ' '.join(expanded_words)\n",
    "    return string_wothout_contractions"
   ]
  },
  {
   "cell_type": "code",
   "execution_count": 15,
   "id": "67980b0b",
   "metadata": {},
   "outputs": [],
   "source": [
    "def basic_cleaning(df, column_name):\n",
    "    #df = copy.deepcopy(df_in)\n",
    "    df[column_name] = df[column_name].apply(delete_not_ascii)\n",
    "    df[column_name] = df[column_name].apply(remove_urls)\n",
    "    df[column_name] = df[column_name].apply(remove_number)\n",
    "    df[column_name] = df[column_name].apply(convert_lower_case)\n",
    "    df[column_name] = df[column_name].apply(string_contractions)\n",
    "    df[column_name] = df[column_name].apply(remove_punct)\n",
    "    df[column_name] = df[column_name].apply(clean_text)"
   ]
  },
  {
   "cell_type": "code",
   "execution_count": 18,
   "id": "dfd368bf",
   "metadata": {},
   "outputs": [],
   "source": [
    "basic_cleaning(df, 'title')"
   ]
  },
  {
   "cell_type": "code",
   "execution_count": 19,
   "id": "6a43cac2",
   "metadata": {},
   "outputs": [],
   "source": [
    "basic_cleaning(df, 'content')"
   ]
  },
  {
   "cell_type": "code",
   "execution_count": 20,
   "id": "0451aa28",
   "metadata": {},
   "outputs": [
    {
     "data": {
      "text/html": [
       "<div>\n",
       "<style scoped>\n",
       "    .dataframe tbody tr th:only-of-type {\n",
       "        vertical-align: middle;\n",
       "    }\n",
       "\n",
       "    .dataframe tbody tr th {\n",
       "        vertical-align: top;\n",
       "    }\n",
       "\n",
       "    .dataframe thead th {\n",
       "        text-align: right;\n",
       "    }\n",
       "</style>\n",
       "<table border=\"1\" class=\"dataframe\">\n",
       "  <thead>\n",
       "    <tr style=\"text-align: right;\">\n",
       "      <th></th>\n",
       "      <th>title</th>\n",
       "      <th>content</th>\n",
       "      <th>Label</th>\n",
       "    </tr>\n",
       "  </thead>\n",
       "  <tbody>\n",
       "    <tr>\n",
       "      <th>0</th>\n",
       "      <td>government must provide security aml wake arm ...</td>\n",
       "      <td>last week armed men carrying machetes deadly w...</td>\n",
       "      <td>1.0</td>\n",
       "    </tr>\n",
       "    <tr>\n",
       "      <th>1</th>\n",
       "      <td>liberia army chief staff predicts unforeseen a...</td>\n",
       "      <td>amid recent coup niger chief staff liberian ar...</td>\n",
       "      <td>1.0</td>\n",
       "    </tr>\n",
       "    <tr>\n",
       "      <th>2</th>\n",
       "      <td>guns machetes men attack vandalize arcelormitt...</td>\n",
       "      <td>group unknown men said zolowee town proximity ...</td>\n",
       "      <td>1.0</td>\n",
       "    </tr>\n",
       "    <tr>\n",
       "      <th>3</th>\n",
       "      <td>president weah commits delivering violent free...</td>\n",
       "      <td>liberian president george weah pledged deliver...</td>\n",
       "      <td>1.0</td>\n",
       "    </tr>\n",
       "    <tr>\n",
       "      <th>4</th>\n",
       "      <td>new world bank liberia country manager arrives</td>\n",
       "      <td>monrovia july number number new world bank cou...</td>\n",
       "      <td>1.0</td>\n",
       "    </tr>\n",
       "  </tbody>\n",
       "</table>\n",
       "</div>"
      ],
      "text/plain": [
       "                                               title  \\\n",
       "0  government must provide security aml wake arm ...   \n",
       "1  liberia army chief staff predicts unforeseen a...   \n",
       "2  guns machetes men attack vandalize arcelormitt...   \n",
       "3  president weah commits delivering violent free...   \n",
       "4     new world bank liberia country manager arrives   \n",
       "\n",
       "                                             content  Label  \n",
       "0  last week armed men carrying machetes deadly w...    1.0  \n",
       "1  amid recent coup niger chief staff liberian ar...    1.0  \n",
       "2  group unknown men said zolowee town proximity ...    1.0  \n",
       "3  liberian president george weah pledged deliver...    1.0  \n",
       "4  monrovia july number number new world bank cou...    1.0  "
      ]
     },
     "execution_count": 20,
     "metadata": {},
     "output_type": "execute_result"
    }
   ],
   "source": [
    "df.head()"
   ]
  },
  {
   "cell_type": "code",
   "execution_count": 21,
   "id": "d99d4029",
   "metadata": {},
   "outputs": [
    {
     "data": {
      "text/plain": [
       "Label\n",
       "1.0    0.855316\n",
       "0.0    0.144684\n",
       "Name: count, dtype: float64"
      ]
     },
     "execution_count": 21,
     "metadata": {},
     "output_type": "execute_result"
    }
   ],
   "source": [
    "df.Label.value_counts()/len(df)"
   ]
  },
  {
   "cell_type": "code",
   "execution_count": 22,
   "id": "662e6237",
   "metadata": {},
   "outputs": [],
   "source": [
    "df.to_csv('clean_data_title_content.csv')"
   ]
  },
  {
   "cell_type": "code",
   "execution_count": null,
   "id": "33e9233a",
   "metadata": {},
   "outputs": [],
   "source": []
  }
 ],
 "metadata": {
  "kernelspec": {
   "display_name": "Python [conda env:nlp_env]",
   "language": "python",
   "name": "conda-env-nlp_env-py"
  },
  "language_info": {
   "codemirror_mode": {
    "name": "ipython",
    "version": 3
   },
   "file_extension": ".py",
   "mimetype": "text/x-python",
   "name": "python",
   "nbconvert_exporter": "python",
   "pygments_lexer": "ipython3",
   "version": "3.11.4"
  },
  "toc": {
   "base_numbering": 1,
   "nav_menu": {},
   "number_sections": true,
   "sideBar": true,
   "skip_h1_title": false,
   "title_cell": "Table of Contents",
   "title_sidebar": "Contents",
   "toc_cell": false,
   "toc_position": {},
   "toc_section_display": true,
   "toc_window_display": false
  },
  "varInspector": {
   "cols": {
    "lenName": 16,
    "lenType": 16,
    "lenVar": 40
   },
   "kernels_config": {
    "python": {
     "delete_cmd_postfix": "",
     "delete_cmd_prefix": "del ",
     "library": "var_list.py",
     "varRefreshCmd": "print(var_dic_list())"
    },
    "r": {
     "delete_cmd_postfix": ") ",
     "delete_cmd_prefix": "rm(",
     "library": "var_list.r",
     "varRefreshCmd": "cat(var_dic_list()) "
    }
   },
   "types_to_exclude": [
    "module",
    "function",
    "builtin_function_or_method",
    "instance",
    "_Feature"
   ],
   "window_display": false
  }
 },
 "nbformat": 4,
 "nbformat_minor": 5
}
