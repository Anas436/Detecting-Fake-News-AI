{
 "cells": [
  {
   "cell_type": "code",
   "execution_count": 2,
   "metadata": {},
   "outputs": [],
   "source": [
    "#Libraries for dataframes\n",
    "import pandas as pd\n",
    "import numpy as np\n",
    "\n",
    "#libraries for ploting visualizations\n",
    "import matplotlib.pyplot as plt\n",
    "import seaborn as sns\n",
    "\n",
    "#Libraries for sentiment analysis\n",
    "import nltk\n",
    "from nltk.corpus import stopwords\n",
    "from nltk.sentiment import SentimentIntensityAnalyzer\n",
    "from wordcloud import WordCloud\n",
    "\n",
    "# Libraries for modeling\n",
    "from sklearn.feature_extraction.text import CountVectorizer\n",
    "from sklearn.decomposition import LatentDirichletAllocation\n",
    "\n",
    "import spacy"
   ]
  },
  {
   "cell_type": "code",
   "execution_count": 8,
   "metadata": {},
   "outputs": [],
   "source": [
    "df = pd.read_csv(r'C:\\Users\\dukec\\My-ML-Workspace\\Omdena Local Chapters\\liberia-fake-news-detection\\src\\data\\task_1_data_collection\\data_collection.csv', on_bad_lines='skip')"
   ]
  },
  {
   "cell_type": "code",
   "execution_count": 9,
   "metadata": {},
   "outputs": [
    {
     "data": {
      "text/html": [
       "<div>\n",
       "<style scoped>\n",
       "    .dataframe tbody tr th:only-of-type {\n",
       "        vertical-align: middle;\n",
       "    }\n",
       "\n",
       "    .dataframe tbody tr th {\n",
       "        vertical-align: top;\n",
       "    }\n",
       "\n",
       "    .dataframe thead th {\n",
       "        text-align: right;\n",
       "    }\n",
       "</style>\n",
       "<table border=\"1\" class=\"dataframe\">\n",
       "  <thead>\n",
       "    <tr style=\"text-align: right;\">\n",
       "      <th></th>\n",
       "      <th></th>\n",
       "      <th></th>\n",
       "      <th></th>\n",
       "      <th></th>\n",
       "      <th></th>\n",
       "      <th></th>\n",
       "      <th></th>\n",
       "      <th></th>\n",
       "      <th></th>\n",
       "      <th></th>\n",
       "      <th></th>\n",
       "      <th></th>\n",
       "      <th>title^publisher_name^content^publication_date^link</th>\n",
       "    </tr>\n",
       "  </thead>\n",
       "  <tbody>\n",
       "    <tr>\n",
       "      <th>The Post of Costa For President is Misleading^Mark Mengonfia^Claim: Henry Costa to contest the 2023 presidential election with his running mate</th>\n",
       "      <th>RiverGee senator Jonathan Sogbie on the All Liberian Party (ALP) ticket.Full Text: Political commentator and talk show host Henry P. Costa’s image appeared on social media this time</th>\n",
       "      <th>not as a running mate to any political leader but as the presidential candidate of Businessman Benoni Urey’s party.Urey established the All Liberian Party (ALP) in 2017 when he contested that year’s presidential election as a presidential candidate.This claim has made rounds on both Instagram and Facebook.On Instagram</th>\n",
       "      <th>a social media user posted in pidgin</th>\n",
       "      <th>stating</th>\n",
       "      <th>“So wettin Costa doing his mouth like that for naa? Lay brelor still vex with Boakai oooo.”This pidgin</th>\n",
       "      <th>when interpreted</th>\n",
       "      <th>means Costa is still angry with former Vice President Joseph Boakai.Also</th>\n",
       "      <th>Dream TV posted the same but said they couldn’t verify the claim.Verification: Our researcher contacted Leaders of the ALP and Henry P. Costa to verify the claim.A WhatsApp message was sent to Costa</th>\n",
       "      <th>who has seen it but has not responded.If he responds</th>\n",
       "      <th>we will update this article.Screenshot of a message sent to Henry Costa with the poster.We also contacted Theodore Momo</th>\n",
       "      <th>ALP chairman who said the claim was not true. “Costa is not the Presidential Candidate of ALP</th>\n",
       "      <th>the information is untrue.Momo said such a decision could only be made at a national convention rather than a Facebook post.Conclusion: Henry Costa and RiverGee senator Jonathan Boy Charles Sogbie are not ALP candidates for president and vice president in the upcoming elections. The claim is Misleading. Related ^June 30</th>\n",
       "      <td>2023^https://tsmliberia.com/the-post-of-costa...</td>\n",
       "    </tr>\n",
       "    <tr>\n",
       "      <th>June Pidgin Edition^The Stage Media-Liberia^We have done a round of fact-checks in Liberian pidgin. If you see a viral claim</th>\n",
       "      <th>please send it to us +231775937658Related ^June 28</th>\n",
       "      <th>2023^https://tsmliberia.com/june-pidgin-edition/</th>\n",
       "      <th>NaN</th>\n",
       "      <th>NaN</th>\n",
       "      <th>NaN</th>\n",
       "      <th>NaN</th>\n",
       "      <th>NaN</th>\n",
       "      <th>NaN</th>\n",
       "      <th>NaN</th>\n",
       "      <th>NaN</th>\n",
       "      <th>NaN</th>\n",
       "      <th>NaN</th>\n",
       "      <td>NaN</td>\n",
       "    </tr>\n",
       "    <tr>\n",
       "      <th>Votes obtained by winners and first-place finishers in Liberia’s presidential Elections...^Bettie Johnson-Mbayo^Liberians participated in another historic election in 2017</th>\n",
       "      <th>ushering in the nation’s first peaceful transition of power from one democratically elected leader to another since 1944</th>\n",
       "      <th>following voting in 2005.After the election</th>\n",
       "      <th>the nation hopes to build on this achievement in order to institutionalize a strong democracy that serves its citizens.A variety of factors influence voter participation</th>\n",
       "      <th>including political indifference</th>\n",
       "      <th>political socialization</th>\n",
       "      <th>modernization</th>\n",
       "      <th>and urbanization.Voter indifference in Liberia has been linked to vote buying</th>\n",
       "      <th>trucking</th>\n",
       "      <th>and voter intimidation.We examine the votes received by the winners and first runners-up in the elections held in 2005</th>\n",
       "      <th>2011</th>\n",
       "      <th>and 2017.This story was produced with the Centre for Journalism Innovation and Development (CJID)’s support.Related ^June 15</th>\n",
       "      <th>2023^https://tsmliberia.com/votes-obtained-by-winners-and-first-place-finishers-in-liberias-presidential-elections-2005-2017/</th>\n",
       "      <td>NaN</td>\n",
       "    </tr>\n",
       "    <tr>\n",
       "      <th>May Pidgin Edition^The Stage Media-Liberia^Listen to our fact-check in Pidgin for the Month of May. Related ^June 8</th>\n",
       "      <th>2023^https://tsmliberia.com/the-stage-media-pidgin-may-edition/</th>\n",
       "      <th>NaN</th>\n",
       "      <th>NaN</th>\n",
       "      <th>NaN</th>\n",
       "      <th>NaN</th>\n",
       "      <th>NaN</th>\n",
       "      <th>NaN</th>\n",
       "      <th>NaN</th>\n",
       "      <th>NaN</th>\n",
       "      <th>NaN</th>\n",
       "      <th>NaN</th>\n",
       "      <th>NaN</th>\n",
       "      <td>NaN</td>\n",
       "    </tr>\n",
       "    <tr>\n",
       "      <th>The Kessie’s Dilemma^The Stage Media-Liberia^A Liberian woman is claiming Frank Kessie and his brother Andy Kessie. Although</th>\n",
       "      <th>it is unknown whether the two would consent to a DNA test. Watch the full documentary.Related ^June 5</th>\n",
       "      <th>2023^https://tsmliberia.com/the-kessies-dilemma/</th>\n",
       "      <th>NaN</th>\n",
       "      <th>NaN</th>\n",
       "      <th>NaN</th>\n",
       "      <th>NaN</th>\n",
       "      <th>NaN</th>\n",
       "      <th>NaN</th>\n",
       "      <th>NaN</th>\n",
       "      <th>NaN</th>\n",
       "      <th>NaN</th>\n",
       "      <th>NaN</th>\n",
       "      <td>NaN</td>\n",
       "    </tr>\n",
       "  </tbody>\n",
       "</table>\n",
       "</div>"
      ],
      "text/plain": [
       "                                                                                                                                                                                                                                                                                                                                                                                                                                                                                                                                                                                                                                     title^publisher_name^content^publication_date^link\n",
       "The Post of Costa For President is Misleading^M...  RiverGee senator Jonathan Sogbie on the All Li...  not as a running mate to any political leader ...  a social media user posted in pidgin               stating                           “So wettin Costa doing his mouth like that for...  when interpreted  means Costa is still angry with former Vice Pr...  Dream TV posted the same but said they couldn’...  who has seen it but has not responded.If he re...  we will update this article.Screenshot of a me...  ALP chairman who said the claim was not true. ...  the information is untrue.Momo said such a dec...   2023^https://tsmliberia.com/the-post-of-costa...\n",
       "June Pidgin Edition^The Stage Media-Liberia^We ...  please send it to us +231775937658Related ^Jun...  2023^https://tsmliberia.com/june-pidgin-edition/  NaN                                                NaN                               NaN                                                NaN               NaN                                                NaN                                                NaN                                                NaN                                                NaN                                                NaN                                                                                               NaN\n",
       "Votes obtained by winners and first-place finis...  ushering in the nation’s first peaceful transi...  following voting in 2005.After the election        the nation hopes to build on this achievement ...  including political indifference  political socialization                            modernization     and urbanization.Voter indifference in Liberia...  trucking                                           and voter intimidation.We examine the votes re...  2011                                               and 2017.This story was produced with the Cent...  2023^https://tsmliberia.com/votes-obtained-by-...                                                NaN\n",
       "May Pidgin Edition^The Stage Media-Liberia^List...  2023^https://tsmliberia.com/the-stage-media-pi... NaN                                                NaN                                                NaN                               NaN                                                NaN               NaN                                                NaN                                                NaN                                                NaN                                                NaN                                                NaN                                                                                               NaN\n",
       "The Kessie’s Dilemma^The Stage Media-Liberia^A ...  it is unknown whether the two would consent to...  2023^https://tsmliberia.com/the-kessies-dilemma/  NaN                                                NaN                               NaN                                                NaN               NaN                                                NaN                                                NaN                                                NaN                                                NaN                                                NaN                                                                                               NaN"
      ]
     },
     "execution_count": 9,
     "metadata": {},
     "output_type": "execute_result"
    }
   ],
   "source": [
    "df.head(5)"
   ]
  },
  {
   "cell_type": "code",
   "execution_count": 10,
   "metadata": {},
   "outputs": [
    {
     "name": "stdout",
     "output_type": "stream",
     "text": [
      "<class 'pandas.core.frame.DataFrame'>\n",
      "MultiIndex: 50 entries, ('The Post of Costa For President is Misleading^Mark Mengonfia^Claim: Henry Costa to contest the 2023 presidential election with his running mate', ' RiverGee senator Jonathan Sogbie on the All Liberian Party (ALP) ticket.Full Text: Political commentator and talk show host Henry P. Costa’s image appeared on social media this time', ' not as a running mate to any political leader but as the presidential candidate of Businessman Benoni Urey’s party.Urey established the All Liberian Party (ALP) in 2017 when he contested that year’s presidential election as a presidential candidate.This claim has made rounds on both Instagram and Facebook.On Instagram', ' a social media user posted in pidgin', ' stating', ' “So wettin Costa doing his mouth like that for naa? Lay brelor still vex with Boakai oooo.”This pidgin', ' when interpreted', ' means Costa is still angry with former Vice President Joseph Boakai.Also', ' Dream TV posted the same but said they couldn’t verify the claim.Verification: Our researcher contacted Leaders of the ALP and Henry P. Costa to verify the claim.A WhatsApp message was sent to Costa', ' who has seen it but has not responded.If he responds', ' we will update this article.Screenshot of a message sent to Henry Costa with the poster.We also contacted Theodore Momo', ' ALP chairman who said the claim was not true. “Costa is not the Presidential Candidate of ALP', ' the information is untrue.Momo said such a decision could only be made at a national convention rather than a Facebook post.Conclusion: Henry Costa and RiverGee senator Jonathan Boy Charles Sogbie are not ALP candidates for president and vice president in the upcoming elections. The claim is Misleading. Related ^June 30') to ('^^^^', nan, nan, nan, nan, nan, nan, nan, nan, nan, nan, nan, nan)\n",
      "Data columns (total 1 columns):\n",
      " #   Column                                              Non-Null Count  Dtype \n",
      "---  ------                                              --------------  ----- \n",
      " 0   title^publisher_name^content^publication_date^link  1 non-null      object\n",
      "dtypes: object(1)\n",
      "memory usage: 4.9+ KB\n"
     ]
    }
   ],
   "source": [
    "df.info()"
   ]
  },
  {
   "cell_type": "code",
   "execution_count": null,
   "metadata": {},
   "outputs": [],
   "source": []
  },
  {
   "cell_type": "code",
   "execution_count": null,
   "metadata": {},
   "outputs": [],
   "source": []
  },
  {
   "cell_type": "code",
   "execution_count": null,
   "metadata": {},
   "outputs": [],
   "source": []
  },
  {
   "cell_type": "code",
   "execution_count": 1,
   "metadata": {},
   "outputs": [
    {
     "ename": "NameError",
     "evalue": "name 'pd' is not defined",
     "output_type": "error",
     "traceback": [
      "\u001b[1;31m---------------------------------------------------------------------------\u001b[0m",
      "\u001b[1;31mNameError\u001b[0m                                 Traceback (most recent call last)",
      "Cell \u001b[1;32mIn[1], line 3\u001b[0m\n\u001b[0;32m      1\u001b[0m \u001b[39m## Reading the Data\u001b[39;00m\n\u001b[1;32m----> 3\u001b[0m df2 \u001b[39m=\u001b[39m pd\u001b[39m.\u001b[39mread_csv(\u001b[39m'\u001b[39m\u001b[39m./src/data/task_2_data_collection/Collected_data.csv\u001b[39m\u001b[39m'\u001b[39m, on_bad_lines\u001b[39m=\u001b[39m\u001b[39m'\u001b[39m\u001b[39mskip\u001b[39m\u001b[39m'\u001b[39m)\n",
      "\u001b[1;31mNameError\u001b[0m: name 'pd' is not defined"
     ]
    }
   ],
   "source": [
    "## Reading the Data\n",
    "\n",
    "df2 = pd.read_csv('./src/data/task_2_data_collection/Collected_data.csv', on_bad_lines='skip')"
   ]
  },
  {
   "cell_type": "code",
   "execution_count": 15,
   "metadata": {},
   "outputs": [
    {
     "data": {
      "text/html": [
       "<div>\n",
       "<style scoped>\n",
       "    .dataframe tbody tr th:only-of-type {\n",
       "        vertical-align: middle;\n",
       "    }\n",
       "\n",
       "    .dataframe tbody tr th {\n",
       "        vertical-align: top;\n",
       "    }\n",
       "\n",
       "    .dataframe thead th {\n",
       "        text-align: right;\n",
       "    }\n",
       "</style>\n",
       "<table border=\"1\" class=\"dataframe\">\n",
       "  <thead>\n",
       "    <tr style=\"text-align: right;\">\n",
       "      <th></th>\n",
       "      <th>Id</th>\n",
       "      <th>Title</th>\n",
       "      <th>Author</th>\n",
       "      <th>Date</th>\n",
       "      <th>Link</th>\n",
       "    </tr>\n",
       "  </thead>\n",
       "  <tbody>\n",
       "    <tr>\n",
       "      <th>0</th>\n",
       "      <td>0</td>\n",
       "      <td>The Post of Costa For President is Misleading</td>\n",
       "      <td>Mark Mengonfia -</td>\n",
       "      <td>June 30, 2023</td>\n",
       "      <td>https://tsmliberia.com/the-post-of-costa-for-p...</td>\n",
       "    </tr>\n",
       "    <tr>\n",
       "      <th>1</th>\n",
       "      <td>1</td>\n",
       "      <td>June Pidgin Edition</td>\n",
       "      <td>The Stage Media-Liberia -</td>\n",
       "      <td>June 28, 2023</td>\n",
       "      <td>https://tsmliberia.com/june-pidgin-edition/</td>\n",
       "    </tr>\n",
       "    <tr>\n",
       "      <th>2</th>\n",
       "      <td>2</td>\n",
       "      <td>The Cut in the 2023 Elections Budget</td>\n",
       "      <td>Gloria Wleh -</td>\n",
       "      <td>June 23, 2023</td>\n",
       "      <td>https://tsmliberia.com/the-cut-in-the-2023-ele...</td>\n",
       "    </tr>\n",
       "    <tr>\n",
       "      <th>3</th>\n",
       "      <td>3</td>\n",
       "      <td>Is UP Ticket a Ritual Ticket?</td>\n",
       "      <td>Bettie Johnson-Mbayo -</td>\n",
       "      <td>June 22, 2023</td>\n",
       "      <td>https://tsmliberia.com/is-up-ticket-a-ritual-t...</td>\n",
       "    </tr>\n",
       "    <tr>\n",
       "      <th>4</th>\n",
       "      <td>4</td>\n",
       "      <td>Is President Weah Correct on the Construction ...</td>\n",
       "      <td>Bettie Johnson-Mbayo -</td>\n",
       "      <td>June 21, 2023</td>\n",
       "      <td>https://tsmliberia.com/is-president-weah-corre...</td>\n",
       "    </tr>\n",
       "  </tbody>\n",
       "</table>\n",
       "</div>"
      ],
      "text/plain": [
       "   Id                                              Title  \\\n",
       "0   0      The Post of Costa For President is Misleading   \n",
       "1   1                                June Pidgin Edition   \n",
       "2   2               The Cut in the 2023 Elections Budget   \n",
       "3   3                      Is UP Ticket a Ritual Ticket?   \n",
       "4   4  Is President Weah Correct on the Construction ...   \n",
       "\n",
       "                      Author           Date  \\\n",
       "0           Mark Mengonfia -  June 30, 2023   \n",
       "1  The Stage Media-Liberia -  June 28, 2023   \n",
       "2              Gloria Wleh -  June 23, 2023   \n",
       "3     Bettie Johnson-Mbayo -  June 22, 2023   \n",
       "4     Bettie Johnson-Mbayo -  June 21, 2023   \n",
       "\n",
       "                                                Link  \n",
       "0  https://tsmliberia.com/the-post-of-costa-for-p...  \n",
       "1        https://tsmliberia.com/june-pidgin-edition/  \n",
       "2  https://tsmliberia.com/the-cut-in-the-2023-ele...  \n",
       "3  https://tsmliberia.com/is-up-ticket-a-ritual-t...  \n",
       "4  https://tsmliberia.com/is-president-weah-corre...  "
      ]
     },
     "execution_count": 15,
     "metadata": {},
     "output_type": "execute_result"
    }
   ],
   "source": [
    "df.head()"
   ]
  },
  {
   "cell_type": "code",
   "execution_count": 16,
   "metadata": {},
   "outputs": [
    {
     "name": "stdout",
     "output_type": "stream",
     "text": [
      "<class 'pandas.core.frame.DataFrame'>\n",
      "RangeIndex: 289 entries, 0 to 288\n",
      "Data columns (total 5 columns):\n",
      " #   Column  Non-Null Count  Dtype \n",
      "---  ------  --------------  ----- \n",
      " 0   Id      289 non-null    int64 \n",
      " 1   Title   289 non-null    object\n",
      " 2   Author  289 non-null    object\n",
      " 3   Date    289 non-null    object\n",
      " 4   Link    289 non-null    object\n",
      "dtypes: int64(1), object(4)\n",
      "memory usage: 11.4+ KB\n"
     ]
    }
   ],
   "source": [
    "df.info()"
   ]
  },
  {
   "cell_type": "code",
   "execution_count": null,
   "metadata": {},
   "outputs": [],
   "source": []
  }
 ],
 "metadata": {
  "kernelspec": {
   "display_name": "fake_news",
   "language": "python",
   "name": "python3"
  },
  "language_info": {
   "codemirror_mode": {
    "name": "ipython",
    "version": 3
   },
   "file_extension": ".py",
   "mimetype": "text/x-python",
   "name": "python",
   "nbconvert_exporter": "python",
   "pygments_lexer": "ipython3",
   "version": "3.10.9"
  },
  "orig_nbformat": 4
 },
 "nbformat": 4,
 "nbformat_minor": 2
}
