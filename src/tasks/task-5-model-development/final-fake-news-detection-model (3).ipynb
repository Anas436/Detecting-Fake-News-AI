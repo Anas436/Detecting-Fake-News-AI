{
 "cells": [
  {
   "cell_type": "code",
   "execution_count": 1,
   "id": "c58613a1",
   "metadata": {
    "_cell_guid": "b1076dfc-b9ad-4769-8c92-a6c4dae69d19",
    "_uuid": "8f2839f25d086af736a60e9eeb907d3b93b6e0e5",
    "execution": {
     "iopub.execute_input": "2023-08-31T14:16:23.334992Z",
     "iopub.status.busy": "2023-08-31T14:16:23.334553Z",
     "iopub.status.idle": "2023-08-31T14:16:25.727860Z",
     "shell.execute_reply": "2023-08-31T14:16:25.726383Z"
    },
    "papermill": {
     "duration": 2.402989,
     "end_time": "2023-08-31T14:16:25.729957",
     "exception": false,
     "start_time": "2023-08-31T14:16:23.326968",
     "status": "completed"
    },
    "tags": []
   },
   "outputs": [
    {
     "name": "stderr",
     "output_type": "stream",
     "text": [
      "/opt/conda/lib/python3.10/site-packages/scipy/__init__.py:146: UserWarning: A NumPy version >=1.16.5 and <1.23.0 is required for this version of SciPy (detected version 1.23.5\n",
      "  warnings.warn(f\"A NumPy version >={np_minversion} and <{np_maxversion}\"\n"
     ]
    },
    {
     "name": "stdout",
     "output_type": "stream",
     "text": [
      "/kaggle/input/large-fakenews-dataset/clean_large_full_dataset.csv\n"
     ]
    }
   ],
   "source": [
    "import numpy as np # linear algebra\n",
    "import pandas as pd # data processing, CSV file I/O (e.g. pd.read_csv)\n",
    "import itertools\n",
    "from sklearn.model_selection import train_test_split\n",
    "from sklearn.linear_model import PassiveAggressiveClassifier\n",
    "from sklearn.metrics import accuracy_score, confusion_matrix,ConfusionMatrixDisplay, classification_report\n",
    "import matplotlib.pyplot as plt\n",
    "from tqdm import tqdm \n",
    "from lightgbm import LGBMClassifier\n",
    "from sklearn.model_selection import StratifiedKFold\n",
    "from sklearn.metrics import precision_score, recall_score, f1_score, log_loss\n",
    "from sklearn.utils.class_weight import compute_class_weight\n",
    "from sklearn.model_selection import GridSearchCV\n",
    "import pickle\n",
    "# Input data files are available in the read-only \"../input/\" directory\n",
    "# For example, running this (by clicking run or pressing Shift+Enter) will list all files under the input directory\n",
    "\n",
    "import os\n",
    "for dirname, _, filenames in os.walk('/kaggle/input'):\n",
    "    for filename in filenames:\n",
    "        print(os.path.join(dirname, filename))\n",
    "\n",
    "# You can write up to 5GB to the current directory (/kaggle/working/) that gets preserved as output when you create a version using \"Save & Run All\" \n",
    "# You can also write temporary files to /kaggle/temp/, but they won't be saved outside of the current session"
   ]
  },
  {
   "cell_type": "code",
   "execution_count": 2,
   "id": "5b3c773b",
   "metadata": {
    "_cell_guid": "79c7e3d0-c299-4dcb-8224-4455121ee9b0",
    "_uuid": "d629ff2d2480ee46fbb7e2d37f6b5fab8052498a",
    "execution": {
     "iopub.execute_input": "2023-08-31T14:16:25.741896Z",
     "iopub.status.busy": "2023-08-31T14:16:25.741498Z",
     "iopub.status.idle": "2023-08-31T14:16:39.248396Z",
     "shell.execute_reply": "2023-08-31T14:16:39.246906Z"
    },
    "papermill": {
     "duration": 13.51542,
     "end_time": "2023-08-31T14:16:39.250706",
     "exception": false,
     "start_time": "2023-08-31T14:16:25.735286",
     "status": "completed"
    },
    "tags": []
   },
   "outputs": [
    {
     "data": {
      "text/plain": [
       "(32392, 16)"
      ]
     },
     "execution_count": 2,
     "metadata": {},
     "output_type": "execute_result"
    }
   ],
   "source": [
    "data = pd.read_csv('/kaggle/input/large-fakenews-dataset/clean_large_full_dataset.csv')\n",
    "data.shape"
   ]
  },
  {
   "cell_type": "code",
   "execution_count": 3,
   "id": "42a4ae77",
   "metadata": {
    "execution": {
     "iopub.execute_input": "2023-08-31T14:16:39.263021Z",
     "iopub.status.busy": "2023-08-31T14:16:39.262634Z",
     "iopub.status.idle": "2023-08-31T14:16:39.303984Z",
     "shell.execute_reply": "2023-08-31T14:16:39.302406Z"
    },
    "papermill": {
     "duration": 0.050294,
     "end_time": "2023-08-31T14:16:39.306265",
     "exception": false,
     "start_time": "2023-08-31T14:16:39.255971",
     "status": "completed"
    },
    "tags": []
   },
   "outputs": [
    {
     "data": {
      "text/html": [
       "<div>\n",
       "<style scoped>\n",
       "    .dataframe tbody tr th:only-of-type {\n",
       "        vertical-align: middle;\n",
       "    }\n",
       "\n",
       "    .dataframe tbody tr th {\n",
       "        vertical-align: top;\n",
       "    }\n",
       "\n",
       "    .dataframe thead th {\n",
       "        text-align: right;\n",
       "    }\n",
       "</style>\n",
       "<table border=\"1\" class=\"dataframe\">\n",
       "  <thead>\n",
       "    <tr style=\"text-align: right;\">\n",
       "      <th></th>\n",
       "      <th>Unnamed: 0</th>\n",
       "      <th>title</th>\n",
       "      <th>content</th>\n",
       "      <th>date</th>\n",
       "      <th>Publisher</th>\n",
       "      <th>link</th>\n",
       "      <th>Label</th>\n",
       "      <th>clean_content</th>\n",
       "      <th>content_lower</th>\n",
       "      <th>content_tokenied</th>\n",
       "      <th>content_contradict</th>\n",
       "      <th>content_nodigit</th>\n",
       "      <th>lemmatized</th>\n",
       "      <th>day</th>\n",
       "      <th>month</th>\n",
       "      <th>year</th>\n",
       "    </tr>\n",
       "  </thead>\n",
       "  <tbody>\n",
       "    <tr>\n",
       "      <th>0</th>\n",
       "      <td>0</td>\n",
       "      <td>government must provide security for aml in th...</td>\n",
       "      <td>Last week, armed men carrying machetes deadly ...</td>\n",
       "      <td>2023-07-31</td>\n",
       "      <td>Gnn News Liberia</td>\n",
       "      <td>https://gnnliberia.com/government-must-provide...</td>\n",
       "      <td>1.0</td>\n",
       "      <td>Last week armed men carrying machetes and othe...</td>\n",
       "      <td>last week armed men carrying machetes deadly w...</td>\n",
       "      <td>['last week armed men carrying machetes and ot...</td>\n",
       "      <td>last week armed men carrying machetes deadly w...</td>\n",
       "      <td>last week armed men carrying machetes deadly w...</td>\n",
       "      <td>week armed man carry machete deadly weapon att...</td>\n",
       "      <td>31</td>\n",
       "      <td>7</td>\n",
       "      <td>2023</td>\n",
       "    </tr>\n",
       "    <tr>\n",
       "      <th>1</th>\n",
       "      <td>1</td>\n",
       "      <td>liberia army chief of staff predicts unforesee...</td>\n",
       "      <td>Amid recent coup Niger, Chief Staff Liberian a...</td>\n",
       "      <td>2023-07-28</td>\n",
       "      <td>Gnn News Liberia</td>\n",
       "      <td>https://gnnliberia.com/liberia-army-chief-of-s...</td>\n",
       "      <td>1.0</td>\n",
       "      <td>Amid recent coup in Niger the Chief Staff of t...</td>\n",
       "      <td>amid recent coup niger chief staff liberian ar...</td>\n",
       "      <td>['amid recent coup in niger the chief staff of...</td>\n",
       "      <td>amid recent coup niger chief staff liberian ar...</td>\n",
       "      <td>amid recent coup niger chief staff liberian ar...</td>\n",
       "      <td>amid recent coup niger chief staff liberian ar...</td>\n",
       "      <td>28</td>\n",
       "      <td>7</td>\n",
       "      <td>2023</td>\n",
       "    </tr>\n",
       "    <tr>\n",
       "      <th>2</th>\n",
       "      <td>2</td>\n",
       "      <td>guns  machetes men attack vandalize arcelormit...</td>\n",
       "      <td>A group unknown men said Zolowee, town proximi...</td>\n",
       "      <td>2023-07-30</td>\n",
       "      <td>Gnn News Liberia</td>\n",
       "      <td>https://gnnliberia.com/guns-machetes-men-attac...</td>\n",
       "      <td>1.0</td>\n",
       "      <td>A group of unknown men said to be from Zolowee...</td>\n",
       "      <td>group unknown men said zolowee town proximity ...</td>\n",
       "      <td>['a group of unknown men said to be from zolow...</td>\n",
       "      <td>group unknown men said zolowee town proximity ...</td>\n",
       "      <td>group unknown men said zolowee town proximity ...</td>\n",
       "      <td>group unknown man say zolowee town proximity a...</td>\n",
       "      <td>30</td>\n",
       "      <td>7</td>\n",
       "      <td>2023</td>\n",
       "    </tr>\n",
       "    <tr>\n",
       "      <th>3</th>\n",
       "      <td>3</td>\n",
       "      <td>president  weah commits to delivering violent ...</td>\n",
       "      <td>Liberian President, George Weah, pledged deliv...</td>\n",
       "      <td>2023-07-27</td>\n",
       "      <td>Gnn News Liberia</td>\n",
       "      <td>https://gnnliberia.com/president-weah-commits-...</td>\n",
       "      <td>1.0</td>\n",
       "      <td>Liberian President George Weah has pledged to ...</td>\n",
       "      <td>liberian president george weah pledged deliver...</td>\n",
       "      <td>['liberian president george weah has pledged t...</td>\n",
       "      <td>liberian president george weah pledged deliver...</td>\n",
       "      <td>liberian president george weah pledged deliver...</td>\n",
       "      <td>liberian president george weah pledge deliver ...</td>\n",
       "      <td>27</td>\n",
       "      <td>7</td>\n",
       "      <td>2023</td>\n",
       "    </tr>\n",
       "    <tr>\n",
       "      <th>4</th>\n",
       "      <td>4</td>\n",
       "      <td>new world bank liberia country manager arrives</td>\n",
       "      <td>MONROVIA, July 31, 2023 â€“ The new World Bank...</td>\n",
       "      <td>2023-07-31</td>\n",
       "      <td>Gnn News Liberia</td>\n",
       "      <td>https://gnnliberia.com/new-world-bank-liberia-...</td>\n",
       "      <td>1.0</td>\n",
       "      <td>MONROVIA July 31 2023 â€“ The new World Bank C...</td>\n",
       "      <td>monrovia july 31 2023 â€“ new world bank count...</td>\n",
       "      <td>['monrovia july 31 2023 â€“ the new world bank...</td>\n",
       "      <td>monrovia july 31 2023 â€“ new world bank count...</td>\n",
       "      <td>monrovia july   â€“ new world bank country man...</td>\n",
       "      <td>monrovia july    â€ \" new world bank country m...</td>\n",
       "      <td>31</td>\n",
       "      <td>7</td>\n",
       "      <td>2023</td>\n",
       "    </tr>\n",
       "  </tbody>\n",
       "</table>\n",
       "</div>"
      ],
      "text/plain": [
       "   Unnamed: 0                                              title  \\\n",
       "0           0  government must provide security for aml in th...   \n",
       "1           1  liberia army chief of staff predicts unforesee...   \n",
       "2           2  guns  machetes men attack vandalize arcelormit...   \n",
       "3           3  president  weah commits to delivering violent ...   \n",
       "4           4     new world bank liberia country manager arrives   \n",
       "\n",
       "                                             content        date  \\\n",
       "0  Last week, armed men carrying machetes deadly ...  2023-07-31   \n",
       "1  Amid recent coup Niger, Chief Staff Liberian a...  2023-07-28   \n",
       "2  A group unknown men said Zolowee, town proximi...  2023-07-30   \n",
       "3  Liberian President, George Weah, pledged deliv...  2023-07-27   \n",
       "4  MONROVIA, July 31, 2023 â€“ The new World Bank...  2023-07-31   \n",
       "\n",
       "          Publisher                                               link  Label  \\\n",
       "0  Gnn News Liberia  https://gnnliberia.com/government-must-provide...    1.0   \n",
       "1  Gnn News Liberia  https://gnnliberia.com/liberia-army-chief-of-s...    1.0   \n",
       "2  Gnn News Liberia  https://gnnliberia.com/guns-machetes-men-attac...    1.0   \n",
       "3  Gnn News Liberia  https://gnnliberia.com/president-weah-commits-...    1.0   \n",
       "4  Gnn News Liberia  https://gnnliberia.com/new-world-bank-liberia-...    1.0   \n",
       "\n",
       "                                       clean_content  \\\n",
       "0  Last week armed men carrying machetes and othe...   \n",
       "1  Amid recent coup in Niger the Chief Staff of t...   \n",
       "2  A group of unknown men said to be from Zolowee...   \n",
       "3  Liberian President George Weah has pledged to ...   \n",
       "4  MONROVIA July 31 2023 â€“ The new World Bank C...   \n",
       "\n",
       "                                       content_lower  \\\n",
       "0  last week armed men carrying machetes deadly w...   \n",
       "1  amid recent coup niger chief staff liberian ar...   \n",
       "2  group unknown men said zolowee town proximity ...   \n",
       "3  liberian president george weah pledged deliver...   \n",
       "4  monrovia july 31 2023 â€“ new world bank count...   \n",
       "\n",
       "                                    content_tokenied  \\\n",
       "0  ['last week armed men carrying machetes and ot...   \n",
       "1  ['amid recent coup in niger the chief staff of...   \n",
       "2  ['a group of unknown men said to be from zolow...   \n",
       "3  ['liberian president george weah has pledged t...   \n",
       "4  ['monrovia july 31 2023 â€“ the new world bank...   \n",
       "\n",
       "                                  content_contradict  \\\n",
       "0  last week armed men carrying machetes deadly w...   \n",
       "1  amid recent coup niger chief staff liberian ar...   \n",
       "2  group unknown men said zolowee town proximity ...   \n",
       "3  liberian president george weah pledged deliver...   \n",
       "4  monrovia july 31 2023 â€“ new world bank count...   \n",
       "\n",
       "                                     content_nodigit  \\\n",
       "0  last week armed men carrying machetes deadly w...   \n",
       "1  amid recent coup niger chief staff liberian ar...   \n",
       "2  group unknown men said zolowee town proximity ...   \n",
       "3  liberian president george weah pledged deliver...   \n",
       "4  monrovia july   â€“ new world bank country man...   \n",
       "\n",
       "                                          lemmatized  day  month  year  \n",
       "0  week armed man carry machete deadly weapon att...   31      7  2023  \n",
       "1  amid recent coup niger chief staff liberian ar...   28      7  2023  \n",
       "2  group unknown man say zolowee town proximity a...   30      7  2023  \n",
       "3  liberian president george weah pledge deliver ...   27      7  2023  \n",
       "4  monrovia july    â€ \" new world bank country m...   31      7  2023  "
      ]
     },
     "execution_count": 3,
     "metadata": {},
     "output_type": "execute_result"
    }
   ],
   "source": [
    "data=data.reset_index(drop=True)\n",
    "data.head()"
   ]
  },
  {
   "cell_type": "code",
   "execution_count": 4,
   "id": "5b045532",
   "metadata": {
    "execution": {
     "iopub.execute_input": "2023-08-31T14:16:39.318315Z",
     "iopub.status.busy": "2023-08-31T14:16:39.317928Z",
     "iopub.status.idle": "2023-08-31T14:16:39.327530Z",
     "shell.execute_reply": "2023-08-31T14:16:39.326680Z"
    },
    "papermill": {
     "duration": 0.017669,
     "end_time": "2023-08-31T14:16:39.329394",
     "exception": false,
     "start_time": "2023-08-31T14:16:39.311725",
     "status": "completed"
    },
    "tags": []
   },
   "outputs": [],
   "source": [
    "data['Label'] = data['Label'].round().astype(int)\n",
    "data.rename(columns={'Label': 'label'}, inplace=True)"
   ]
  },
  {
   "cell_type": "code",
   "execution_count": 5,
   "id": "ba7dfedb",
   "metadata": {
    "execution": {
     "iopub.execute_input": "2023-08-31T14:16:39.342757Z",
     "iopub.status.busy": "2023-08-31T14:16:39.342361Z",
     "iopub.status.idle": "2023-08-31T14:16:39.459272Z",
     "shell.execute_reply": "2023-08-31T14:16:39.457455Z"
    },
    "papermill": {
     "duration": 0.12699,
     "end_time": "2023-08-31T14:16:39.462167",
     "exception": false,
     "start_time": "2023-08-31T14:16:39.335177",
     "status": "completed"
    },
    "tags": []
   },
   "outputs": [],
   "source": [
    "data['text'] = data['title'].astype(str) + \" \" + data['clean_content'].astype(str)"
   ]
  },
  {
   "cell_type": "code",
   "execution_count": 6,
   "id": "a130e332",
   "metadata": {
    "execution": {
     "iopub.execute_input": "2023-08-31T14:16:39.476697Z",
     "iopub.status.busy": "2023-08-31T14:16:39.476288Z",
     "iopub.status.idle": "2023-08-31T14:16:39.671428Z",
     "shell.execute_reply": "2023-08-31T14:16:39.670338Z"
    },
    "papermill": {
     "duration": 0.205292,
     "end_time": "2023-08-31T14:16:39.673953",
     "exception": false,
     "start_time": "2023-08-31T14:16:39.468661",
     "status": "completed"
    },
    "tags": []
   },
   "outputs": [
    {
     "data": {
      "image/png": "[encoded data removed]",
      "text/plain": [
       "<Figure size 600x600 with 1 Axes>"
      ]
     },
     "metadata": {},
     "output_type": "display_data"
    }
   ],
   "source": [
    "# Count the occurrences of each label\n",
    "label_counts = data['label'].value_counts()\n",
    "\n",
    "# Create a pie chart\n",
    "plt.figure(figsize=(6, 6))\n",
    "plt.pie(label_counts,explode=[0.1,0.1],colors=['firebrick','navy'],startangle=90,shadow=True,labels=['True','Fake'],autopct='%1.1f%%')\n",
    "plt.title(\"Distribution of Fake and True News\")\n",
    "plt.axis('equal')  # Equal aspect ratio ensures that pie is drawn as a circle.\n",
    "plt.show()"
   ]
  },
  {
   "cell_type": "code",
   "execution_count": 7,
   "id": "dd22e34c",
   "metadata": {
    "execution": {
     "iopub.execute_input": "2023-08-31T14:16:39.690820Z",
     "iopub.status.busy": "2023-08-31T14:16:39.689589Z",
     "iopub.status.idle": "2023-08-31T14:16:39.696038Z",
     "shell.execute_reply": "2023-08-31T14:16:39.695353Z"
    },
    "papermill": {
     "duration": 0.01651,
     "end_time": "2023-08-31T14:16:39.697839",
     "exception": false,
     "start_time": "2023-08-31T14:16:39.681329",
     "status": "completed"
    },
    "tags": []
   },
   "outputs": [
    {
     "data": {
      "text/plain": [
       "'# Generate a basic word cloud \\nfrom wordcloud import WordCloud, ImageColorGenerator\\n\\ntext = \" \".join([x for x in data[\\'text\\']])\\n# Create and generate a word cloud image:\\nwordcloud = WordCloud(max_font_size=30, max_words=1000).generate(text)\\n\\n# Display the generated image:\\nplt.figure(figsize= [20,10])\\nplt.imshow(wordcloud)\\nplt.axis(\"off\")\\nplt.show()'"
      ]
     },
     "execution_count": 7,
     "metadata": {},
     "output_type": "execute_result"
    }
   ],
   "source": [
    "'''# Generate a basic word cloud \n",
    "from wordcloud import WordCloud, ImageColorGenerator\n",
    "\n",
    "text = \" \".join([x for x in data['text']])\n",
    "# Create and generate a word cloud image:\n",
    "wordcloud = WordCloud(max_font_size=30, max_words=1000).generate(text)\n",
    "\n",
    "# Display the generated image:\n",
    "plt.figure(figsize= [20,10])\n",
    "plt.imshow(wordcloud)\n",
    "plt.axis(\"off\")\n",
    "plt.show()'''"
   ]
  },
  {
   "cell_type": "code",
   "execution_count": 8,
   "id": "ff864a92",
   "metadata": {
    "execution": {
     "iopub.execute_input": "2023-08-31T14:16:39.716508Z",
     "iopub.status.busy": "2023-08-31T14:16:39.715138Z",
     "iopub.status.idle": "2023-08-31T14:16:39.739942Z",
     "shell.execute_reply": "2023-08-31T14:16:39.738432Z"
    },
    "papermill": {
     "duration": 0.037673,
     "end_time": "2023-08-31T14:16:39.742494",
     "exception": false,
     "start_time": "2023-08-31T14:16:39.704821",
     "status": "completed"
    },
    "tags": []
   },
   "outputs": [
    {
     "name": "stdout",
     "output_type": "stream",
     "text": [
      "(25913,)\n",
      "(6479,)\n"
     ]
    }
   ],
   "source": [
    "# Split the dataset\n",
    "# Split data into train, validation, and test sets\n",
    "X_train, X_test, y_train, y_test = train_test_split(data['text'], data['label'], test_size=0.2, random_state=42,stratify = data['label'])\n",
    "\n",
    "print(X_train.shape)\n",
    "print(X_test.shape)"
   ]
  },
  {
   "cell_type": "code",
   "execution_count": 9,
   "id": "dab16d81",
   "metadata": {
    "execution": {
     "iopub.execute_input": "2023-08-31T14:16:39.757470Z",
     "iopub.status.busy": "2023-08-31T14:16:39.756169Z",
     "iopub.status.idle": "2023-08-31T14:16:52.651395Z",
     "shell.execute_reply": "2023-08-31T14:16:52.650422Z"
    },
    "papermill": {
     "duration": 12.904627,
     "end_time": "2023-08-31T14:16:52.653527",
     "exception": false,
     "start_time": "2023-08-31T14:16:39.748900",
     "status": "completed"
    },
    "tags": []
   },
   "outputs": [
    {
     "name": "stdout",
     "output_type": "stream",
     "text": [
      "(25913, 217623)\n",
      "(6479, 217623)\n"
     ]
    }
   ],
   "source": [
    "from sklearn.feature_extraction.text import TfidfVectorizer\n",
    "\n",
    "# TF-IDF vectorization\n",
    "tfidf_vectorizer = TfidfVectorizer()\n",
    "tfidf_train = tfidf_vectorizer.fit_transform(X_train)\n",
    "tfidf_test = tfidf_vectorizer.transform(X_test)\n",
    "\n",
    "print(tfidf_train.shape)\n",
    "print(tfidf_test.shape)"
   ]
  },
  {
   "cell_type": "code",
   "execution_count": 10,
   "id": "24683e81",
   "metadata": {
    "execution": {
     "iopub.execute_input": "2023-08-31T14:16:52.668245Z",
     "iopub.status.busy": "2023-08-31T14:16:52.667816Z",
     "iopub.status.idle": "2023-08-31T14:16:52.760219Z",
     "shell.execute_reply": "2023-08-31T14:16:52.759503Z"
    },
    "papermill": {
     "duration": 0.102802,
     "end_time": "2023-08-31T14:16:52.763050",
     "exception": false,
     "start_time": "2023-08-31T14:16:52.660248",
     "status": "completed"
    },
    "tags": []
   },
   "outputs": [
    {
     "name": "stdout",
     "output_type": "stream",
     "text": [
      "Vectorizer saved to Best_tfidf_vectorizer_Final_model_X1.pkl\n"
     ]
    }
   ],
   "source": [
    "# Save the TF-IDF vectorizer\n",
    "tfidf_filename = 'Best_tfidf_vectorizer_Final_model_X1.pkl'\n",
    "with open(tfidf_filename, 'wb') as tfidf_file:\n",
    "    pickle.dump(tfidf_vectorizer, tfidf_file)\n",
    "print(f\"Vectorizer saved to {tfidf_filename}\")"
   ]
  },
  {
   "cell_type": "code",
   "execution_count": 11,
   "id": "4e2db944",
   "metadata": {
    "execution": {
     "iopub.execute_input": "2023-08-31T14:16:52.777216Z",
     "iopub.status.busy": "2023-08-31T14:16:52.776771Z",
     "iopub.status.idle": "2023-08-31T23:21:51.573211Z",
     "shell.execute_reply": "2023-08-31T23:21:51.571527Z"
    },
    "papermill": {
     "duration": 32698.810592,
     "end_time": "2023-08-31T23:21:51.580041",
     "exception": false,
     "start_time": "2023-08-31T14:16:52.769449",
     "status": "completed"
    },
    "tags": []
   },
   "outputs": [
    {
     "name": "stdout",
     "output_type": "stream",
     "text": [
      "Final Model Accuracy on test set: 0.99\n",
      "Final Model Precision on test set: 1.00\n",
      "Final Model Recall on test set: 0.99\n",
      "Final Model F1-Score on test set: 0.99\n",
      "Report : \n",
      "               precision    recall  f1-score   support\n",
      "\n",
      "           0       0.98      0.98      0.98      1129\n",
      "           1       1.00      0.99      0.99      5350\n",
      "\n",
      "    accuracy                           0.99      6479\n",
      "   macro avg       0.99      0.99      0.99      6479\n",
      "weighted avg       0.99      0.99      0.99      6479\n",
      "\n"
     ]
    },
    {
     "data": {
      "image/png": "[encoded data removed]",
      "text/plain": [
       "<Figure size 640x480 with 2 Axes>"
      ]
     },
     "metadata": {},
     "output_type": "display_data"
    }
   ],
   "source": [
    "# Calculate class weights\n",
    "total_samples = len(y_train)\n",
    "class_0_samples = np.sum(y_train == 0)\n",
    "class_1_samples = np.sum(y_train == 1)\n",
    "\n",
    "weight_0 = total_samples / (2 * class_0_samples)  # You might need to adjust this value\n",
    "weight_1 = total_samples / (2 * class_1_samples)  # You might need to adjust this value\n",
    "\n",
    "class_weights = {0: weight_0, 1: weight_1}\n",
    "# Hyperparameter tuning using GridSearchCV\n",
    "param_grid = {\n",
    "    'boosting_type': ['gbdt', 'dart'],\n",
    "    'learning_rate': [0.01, 0.1, 0.2],\n",
    "    'max_depth': [5, 6, 7],\n",
    "    'subsample': [0.7, 0.8, 0.9],\n",
    "    'colsample_bytree': [0.7, 0.8, 0.9],\n",
    "    'reg_lambda': [0.01, 0.1, 1]\n",
    "}\n",
    "\n",
    "grid_search = GridSearchCV(\n",
    "    LGBMClassifier(random_state=42, class_weight=class_weights),\n",
    "    param_grid,\n",
    "    scoring='f1_macro',  # You can adjust the scoring metric\n",
    "    cv=3\n",
    ")\n",
    "grid_search.fit(tfidf_train, y_train)\n",
    "\n",
    "# Get the best model from the grid search\n",
    "best_lgbm_classifier = grid_search.best_estimator_\n",
    "\n",
    "# Train the best model on the entire training set\n",
    "best_lgbm_classifier.fit(tfidf_train, y_train)\n",
    "\n",
    "# Evaluate the best model on the test set\n",
    "predicted_labels_test = best_lgbm_classifier.predict(tfidf_test)\n",
    "\n",
    "accuracy_test = best_lgbm_classifier.score(tfidf_test, y_test)\n",
    "precision_test = precision_score(y_test, predicted_labels_test)\n",
    "recall_test = recall_score(y_test, predicted_labels_test)\n",
    "f1_test = f1_score(y_test, predicted_labels_test)\n",
    "\n",
    "print(f\"Final Model Accuracy on test set: {accuracy_test:.2f}\")\n",
    "print(f\"Final Model Precision on test set: {precision_test:.2f}\")\n",
    "print(f\"Final Model Recall on test set: {recall_test:.2f}\")\n",
    "print(f\"Final Model F1-Score on test set: {f1_test:.2f}\")\n",
    "disp = ConfusionMatrixDisplay(confusion_matrix(y_test, predicted_labels_test))\n",
    "print(\"Report : \\n {}\".format(classification_report(y_test, predicted_labels_test)))\n",
    "disp.plot()\n",
    "plt.show()"
   ]
  },
  {
   "cell_type": "code",
   "execution_count": 12,
   "id": "f02e81f0",
   "metadata": {
    "execution": {
     "iopub.execute_input": "2023-08-31T23:21:51.595512Z",
     "iopub.status.busy": "2023-08-31T23:21:51.595023Z",
     "iopub.status.idle": "2023-08-31T23:21:51.685427Z",
     "shell.execute_reply": "2023-08-31T23:21:51.684367Z"
    },
    "papermill": {
     "duration": 0.100931,
     "end_time": "2023-08-31T23:21:51.687773",
     "exception": false,
     "start_time": "2023-08-31T23:21:51.586842",
     "status": "completed"
    },
    "tags": []
   },
   "outputs": [
    {
     "name": "stdout",
     "output_type": "stream",
     "text": [
      "Model saved to Best_LGBMClassifier_Final_model_X1.pkl\n"
     ]
    }
   ],
   "source": [
    "# Save the trained model to a file\n",
    "model_filename = \"Best_LGBMClassifier_Final_model_X1.pkl\"\n",
    "with open(model_filename, 'wb') as model_file:\n",
    "    pickle.dump(best_lgbm_classifier, model_file)\n",
    "\n",
    "print(f\"Model saved to {model_filename}\")"
   ]
  },
  {
   "cell_type": "code",
   "execution_count": null,
   "id": "90a8c570",
   "metadata": {
    "execution": {
     "iopub.execute_input": "2023-08-31T01:05:36.236440Z",
     "iopub.status.busy": "2023-08-31T01:05:36.236153Z",
     "iopub.status.idle": "2023-08-31T01:05:36.317587Z",
     "shell.execute_reply": "2023-08-31T01:05:36.316221Z",
     "shell.execute_reply.started": "2023-08-31T01:05:36.236418Z"
    },
    "papermill": {
     "duration": 0.005963,
     "end_time": "2023-08-31T23:21:51.700402",
     "exception": false,
     "start_time": "2023-08-31T23:21:51.694439",
     "status": "completed"
    },
    "tags": []
   },
   "outputs": [],
   "source": []
  },
  {
   "cell_type": "code",
   "execution_count": null,
   "id": "813272c3",
   "metadata": {
    "papermill": {
     "duration": 0.006002,
     "end_time": "2023-08-31T23:21:51.712494",
     "exception": false,
     "start_time": "2023-08-31T23:21:51.706492",
     "status": "completed"
    },
    "tags": []
   },
   "outputs": [],
   "source": []
  }
 ],
 "kernelspec": {
  "display_name": "Python 3",
  "language": "python",
  "name": "python3"
 },
 "language_info": {
  "codemirror_mode": {
   "name": "ipython",
   "version": 3
  },
  "file_extension": ".py",
  "mimetype": "text/x-python",
  "name": "python",
  "nbconvert_exporter": "python",
  "pygments_lexer": "ipython3",
  "version": "3.6.4"
 },
 "metadata": {
  "kernelspec": {
   "display_name": "Python 3",
   "language": "python",
   "name": "python3"
  },
  "language_info": {
   "codemirror_mode": {
    "name": "ipython",
    "version": 3
   },
   "file_extension": ".py",
   "mimetype": "text/x-python",
   "name": "python",
   "nbconvert_exporter": "python",
   "pygments_lexer": "ipython3",
   "version": "3.10.12"
  },
  "papermill": {
   "default_parameters": {},
   "duration": 32741.217755,
   "end_time": "2023-08-31T23:21:54.300839",
   "environment_variables": {},
   "exception": null,
   "input_path": "__notebook__.ipynb",
   "output_path": "__notebook__.ipynb",
   "parameters": {},
   "start_time": "2023-08-31T14:16:13.083084",
   "version": "2.4.0"
  }
 },
 "nbformat": 4,
 "nbformat_minor": 5
}
